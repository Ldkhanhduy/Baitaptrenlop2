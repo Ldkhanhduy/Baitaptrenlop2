{
  "nbformat": 4,
  "nbformat_minor": 0,
  "metadata": {
    "colab": {
      "name": "Baitaptrenlop.ipynb",
      "provenance": [],
      "authorship_tag": "ABX9TyOzQbCaA1YtQRu9xbW6fVFy",
      "include_colab_link": true
    },
    "kernelspec": {
      "name": "python3",
      "display_name": "Python 3"
    },
    "language_info": {
      "name": "python"
    }
  },
  "cells": [
    {
      "cell_type": "markdown",
      "metadata": {
        "id": "view-in-github",
        "colab_type": "text"
      },
      "source": [
        "<a href=\"https://colab.research.google.com/github/Ldkhanhduy/Baitaptrenlop2/blob/main/Baitaptrenlop.ipynb\" target=\"_parent\"><img src=\"https://colab.research.google.com/assets/colab-badge.svg\" alt=\"Open In Colab\"/></a>"
      ]
    },
    {
      "cell_type": "code",
      "metadata": {
        "colab": {
          "base_uri": "https://localhost:8080/"
        },
        "id": "VEf6KFxXSR8p",
        "outputId": "5cb3663a-dde8-4e0a-c064-d421cce98703"
      },
      "source": [
        "list1=[12, 3, 23, 4, 25, 14, 72]\n",
        "print(\"list1:\", list1)"
      ],
      "execution_count": 59,
      "outputs": [
        {
          "output_type": "stream",
          "name": "stdout",
          "text": [
            "list1: [12, 3, 23, 4, 25, 14, 72]\n"
          ]
        }
      ]
    },
    {
      "cell_type": "code",
      "metadata": {
        "colab": {
          "base_uri": "https://localhost:8080/"
        },
        "id": "H-1-gQu2TPjf",
        "outputId": "6c65ad92-913c-41e4-b60e-c78a8c7aa566"
      },
      "source": [
        "#Bai1\n",
        "print(\"tong cac phan tu cua list1:\", sum(list1))"
      ],
      "execution_count": 60,
      "outputs": [
        {
          "output_type": "stream",
          "name": "stdout",
          "text": [
            "tong cac phan tu cua list1: 153\n"
          ]
        }
      ]
    },
    {
      "cell_type": "code",
      "metadata": {
        "colab": {
          "base_uri": "https://localhost:8080/"
        },
        "id": "BHmTzHHkTUSt",
        "outputId": "c27113e7-5ca1-4769-fad1-79f8e4d40314"
      },
      "source": [
        "#Bai2\n",
        "print(\"tich cac ohan tu cua list1:\", 12*3*23*4*25*14*72)"
      ],
      "execution_count": 61,
      "outputs": [
        {
          "output_type": "stream",
          "name": "stdout",
          "text": [
            "tich cac ohan tu cua list1: 83462400\n"
          ]
        }
      ]
    },
    {
      "cell_type": "code",
      "metadata": {
        "colab": {
          "base_uri": "https://localhost:8080/"
        },
        "id": "EE62c4wPS2qA",
        "outputId": "da363d46-5ed9-43c6-9d18-f10d8e0f0db3"
      },
      "source": [
        "#Bai3\n",
        "print(\"gia tri lon nhat:\", max(list1))"
      ],
      "execution_count": 62,
      "outputs": [
        {
          "output_type": "stream",
          "name": "stdout",
          "text": [
            "gia tri lon nhat: 72\n"
          ]
        }
      ]
    },
    {
      "cell_type": "code",
      "metadata": {
        "colab": {
          "base_uri": "https://localhost:8080/"
        },
        "id": "e_z894_RThe3",
        "outputId": "9f66efa5-bbfd-4cd9-e7ab-5560c947f0ba"
      },
      "source": [
        "#Bai4\n",
        "print(\"gia tri nho nhat:\", min(list1))"
      ],
      "execution_count": 63,
      "outputs": [
        {
          "output_type": "stream",
          "name": "stdout",
          "text": [
            "gia tri nho nhat: 3\n"
          ]
        }
      ]
    },
    {
      "cell_type": "code",
      "metadata": {
        "colab": {
          "base_uri": "https://localhost:8080/"
        },
        "id": "JdzteCuuT0N8",
        "outputId": "9146ca20-56c6-4b31-81c4-b9a6fbd55b65"
      },
      "source": [
        "#Bai5\n",
        "list1.sort(reverse=True)\n",
        "print(\"sap xep theo thu tu giam dan:\", list1)"
      ],
      "execution_count": 64,
      "outputs": [
        {
          "output_type": "stream",
          "name": "stdout",
          "text": [
            "sap xep theo thu tu giam dan: [72, 25, 23, 14, 12, 4, 3]\n"
          ]
        }
      ]
    },
    {
      "cell_type": "code",
      "metadata": {
        "colab": {
          "base_uri": "https://localhost:8080/"
        },
        "id": "bt0lF-b0USMy",
        "outputId": "e7ba746a-654f-4de7-cbf6-13296f46c259"
      },
      "source": [
        "#Bai6\n",
        "list1.sort()\n",
        "print(\"sap xep theo thu tu tang dan:\", list1)"
      ],
      "execution_count": 65,
      "outputs": [
        {
          "output_type": "stream",
          "name": "stdout",
          "text": [
            "sap xep theo thu tu tang dan: [3, 4, 12, 14, 23, 25, 72]\n"
          ]
        }
      ]
    },
    {
      "cell_type": "code",
      "metadata": {
        "colab": {
          "base_uri": "https://localhost:8080/"
        },
        "id": "Z-8A9EJ-UeVX",
        "outputId": "c068af57-2bae-4444-cbf2-3f40738f5685"
      },
      "source": [
        "#Bai7\n",
        "print(len(list1))"
      ],
      "execution_count": 66,
      "outputs": [
        {
          "output_type": "stream",
          "name": "stdout",
          "text": [
            "7\n"
          ]
        }
      ]
    },
    {
      "cell_type": "code",
      "metadata": {
        "colab": {
          "base_uri": "https://localhost:8080/"
        },
        "id": "QB4scRQ2UmWT",
        "outputId": "a7b313a2-6949-4516-f4b1-29c8b21e316b"
      },
      "source": [
        "#Bai8\n",
        "import random\n",
        "print(\"chon ngau nhien:\", random.choice(list1))"
      ],
      "execution_count": 67,
      "outputs": [
        {
          "output_type": "stream",
          "name": "stdout",
          "text": [
            "chon ngau nhien: 3\n"
          ]
        }
      ]
    },
    {
      "cell_type": "code",
      "metadata": {
        "colab": {
          "base_uri": "https://localhost:8080/"
        },
        "id": "iLvmYIpVVCf3",
        "outputId": "db563a19-f4fd-4ece-b4bd-8fafe5c16151"
      },
      "source": [
        "#Bai9\n",
        "list2=['a', 'b', 'c', 'd']\n",
        "list1.extend(list2)\n",
        "print(\"list1:\", list1)"
      ],
      "execution_count": 68,
      "outputs": [
        {
          "output_type": "stream",
          "name": "stdout",
          "text": [
            "list1: [3, 4, 12, 14, 23, 25, 72, 'a', 'b', 'c', 'd']\n"
          ]
        }
      ]
    }
  ]
}